{
  "nbformat": 4,
  "nbformat_minor": 0,
  "metadata": {
    "colab": {
      "provenance": []
    },
    "kernelspec": {
      "name": "python3",
      "display_name": "Python 3"
    },
    "language_info": {
      "name": "python"
    }
  },
  "cells": [
    {
      "cell_type": "markdown",
      "source": [
        "**Question 1**\n",
        "\n",
        "\n",
        "Write a python code for converting integer values to Indian currency notations, without\n",
        "using the currency libraries"
      ],
      "metadata": {
        "id": "pulfhM5SJu3b"
      }
    },
    {
      "cell_type": "code",
      "execution_count": 5,
      "metadata": {
        "id": "c3eyMrUUFTZ_"
      },
      "outputs": [],
      "source": [
        "def convert_to_indian_currency(number):\n",
        "  #convert number to string\n",
        "  num_str = str(number)\n",
        "\n",
        "  # split the number into two parts: last three digits and the rest\n",
        "\n",
        "  if len(num_str) > 3:\n",
        "    last_three = num_str[-3:]\n",
        "    other_numbers = num_str[:-3]\n",
        "\n",
        "\n",
        "  # insert commas every two digits in the other_number part\n",
        "\n",
        "    rest_with_commas = ','.join([other_numbers[max(i-2, 0):i] for i in range(len(other_numbers), 0,-2)][::-1])\n",
        "\n",
        "  # Combine the other_number part the last three digits\n",
        "    indian_currency = rest_with_commas + ',' + last_three\n",
        "  else:\n",
        "\n",
        "    # If the number is 3 digits or less, no need to insert commasn\n",
        "    indian_currency = num_str\n",
        "\n",
        "  return indian_currency"
      ]
    },
    {
      "cell_type": "code",
      "source": [
        "Question 2number = 504678\n",
        "print(convert_to_indian_currency(number))"
      ],
      "metadata": {
        "colab": {
          "base_uri": "https://localhost:8080/"
        },
        "id": "FCh-BFDEIMMr",
        "outputId": "8fd7b9db-10fc-4144-b63f-f962f1a8a752"
      },
      "execution_count": 6,
      "outputs": [
        {
          "output_type": "stream",
          "name": "stdout",
          "text": [
            "5,04,678\n"
          ]
        }
      ]
    },
    {
      "cell_type": "code",
      "source": [
        "number2 = 1000\n",
        "print(convert_to_indian_currency(number2))"
      ],
      "metadata": {
        "colab": {
          "base_uri": "https://localhost:8080/"
        },
        "id": "YsPNBjJvIP6i",
        "outputId": "fcf8c53b-6b52-4d75-d8c3-45e5ac2f458b"
      },
      "execution_count": 8,
      "outputs": [
        {
          "output_type": "stream",
          "name": "stdout",
          "text": [
            "1,000\n"
          ]
        }
      ]
    },
    {
      "cell_type": "code",
      "source": [
        "number3 = 100\n",
        "print(convert_to_indian_currency(number3))"
      ],
      "metadata": {
        "colab": {
          "base_uri": "https://localhost:8080/"
        },
        "id": "2bDjAyUGJFn5",
        "outputId": "2d76c4da-e22d-4b42-db3b-5e4bd498ea12"
      },
      "execution_count": 9,
      "outputs": [
        {
          "output_type": "stream",
          "name": "stdout",
          "text": [
            "100\n"
          ]
        }
      ]
    },
    {
      "cell_type": "code",
      "source": [
        "number4 = 10000\n",
        "print(convert_to_indian_currency(number4))"
      ],
      "metadata": {
        "colab": {
          "base_uri": "https://localhost:8080/"
        },
        "id": "22EWAiN9JRUE",
        "outputId": "f6391e6a-4a93-4924-b393-69b1d1630db4"
      },
      "execution_count": 10,
      "outputs": [
        {
          "output_type": "stream",
          "name": "stdout",
          "text": [
            "10,000\n"
          ]
        }
      ]
    },
    {
      "cell_type": "code",
      "source": [],
      "metadata": {
        "id": "OzmL_fZdJYgs"
      },
      "execution_count": null,
      "outputs": []
    },
    {
      "cell_type": "markdown",
      "source": [
        "**Question 2**"
      ],
      "metadata": {
        "id": "56fGGWQZKAGn"
      }
    },
    {
      "cell_type": "code",
      "source": [
        "def find_minimum_shots(T, test_cases):\n",
        "    results = []\n",
        "    for i in range(T):\n",
        "        N, K = test_cases[i][0]\n",
        "        heights = test_cases[i][1]\n",
        "\n",
        "        # Count players taller than K\n",
        "        count = 0\n",
        "        for height in heights:\n",
        "            if height > K:\n",
        "                count += 1\n",
        "\n",
        "        results.append(count)\n",
        "\n",
        "    return results\n",
        "\n",
        "# Input reading\n",
        "T = int(input())\n",
        "test_cases = []\n",
        "\n",
        "for _ in range(T):\n",
        "    N, K = map(int, input().split())\n",
        "    heights = list(map(int, input().split()))\n",
        "    test_cases.append(((N, K), heights))\n",
        "\n",
        "# Processing and Output\n",
        "results = find_minimum_shots(T, test_cases)\n",
        "for result in results:\n",
        "    print(result)"
      ],
      "metadata": {
        "colab": {
          "base_uri": "https://localhost:8080/"
        },
        "id": "4zbczNTdKC7v",
        "outputId": "5f5d519d-e006-4e85-cc43-deba00f92970"
      },
      "execution_count": 27,
      "outputs": [
        {
          "output_type": "stream",
          "name": "stdout",
          "text": [
            "2\n",
            "6 15\n",
            "10 20 15 25 5 30\n",
            "3 12\n",
            "14 8 11\n",
            "3\n",
            "1\n"
          ]
        }
      ]
    },
    {
      "cell_type": "code",
      "source": [
        "results = find_minimum_shots(T, test_cases)\n",
        "for result in results:\n",
        "    print(result)"
      ],
      "metadata": {
        "colab": {
          "base_uri": "https://localhost:8080/"
        },
        "id": "llPmTdMoUV0Z",
        "outputId": "171c9ca6-8ff3-45b4-deae-94f7ab01ac1a"
      },
      "execution_count": 26,
      "outputs": [
        {
          "output_type": "stream",
          "name": "stdout",
          "text": [
            "2\n",
            "1\n",
            "0\n"
          ]
        }
      ]
    },
    {
      "cell_type": "code",
      "source": [
        "results = find_minimum_shots(T, test_cases)\n",
        "for result in results:\n",
        "    print(result)"
      ],
      "metadata": {
        "colab": {
          "base_uri": "https://localhost:8080/"
        },
        "id": "GuH_IQaUWO2J",
        "outputId": "70ed3d7b-f690-49cf-bbf1-7f9742d7d013"
      },
      "execution_count": 28,
      "outputs": [
        {
          "output_type": "stream",
          "name": "stdout",
          "text": [
            "3\n",
            "1\n"
          ]
        }
      ]
    },
    {
      "cell_type": "code",
      "source": [],
      "metadata": {
        "id": "wCjB_0eZXWwI"
      },
      "execution_count": null,
      "outputs": []
    }
  ]
}